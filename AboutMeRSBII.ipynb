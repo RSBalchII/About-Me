{
  "nbformat": 4,
  "nbformat_minor": 0,
  "metadata": {
    "colab": {
      "provenance": [],
      "authorship_tag": "ABX9TyOE4stj1q/jsMX2a/HkG/H9",
      "include_colab_link": true
    },
    "kernelspec": {
      "name": "python3",
      "display_name": "Python 3"
    },
    "language_info": {
      "name": "python"
    }
  },
  "cells": [
    {
      "cell_type": "markdown",
      "metadata": {
        "id": "view-in-github",
        "colab_type": "text"
      },
      "source": [
        "<a href=\"https://colab.research.google.com/github/RSBalchII/About-Me/blob/main/AboutMeRSBII.ipynb\" target=\"_parent\"><img src=\"https://colab.research.google.com/assets/colab-badge.svg\" alt=\"Open In Colab\"/></a>"
      ]
    },
    {
      "cell_type": "markdown",
      "source": [
        "# **About Me**\n",
        "---\n",
        "### *Robert Balch II*\n",
        "I am a software developer with an interest in moving into systems engineering or data science. To achieve these goals I began my coding work a year and a half ago at the Deep Dive Fullstack Program at CNM Ingenuity.\n",
        "## Work Opportunities After Graduation\n",
        "---\n",
        "### **Martini App - Startup**\n",
        "I have had the opportunities when I got out of the bootcamp to work at an internship with Dry Ice LLC.\n",
        "<br><br>At this internship I\n",
        "- *wrote pages of the main application software*\n",
        "- *wrote up a CRUD application for the COO to keep track of sales and customer information*\n",
        "- *used supabase as a backend for data.*\n",
        "### **PRRC - NMT**\n",
        "During this contract I designed an ERD (Entity Relationship Diagram) and decide what frameworks and languages would be used for an inventory application that is used by the Petroleum Research and Engineering Center at New Mexico Technical Institute.\n",
        "\n",
        "#### *PRRC Website*\n",
        "- Made contributions to the PRRC Website converting html and css to Next.js Framework for security and high speed access.\n",
        "\n",
        "#### *PRRC Seismic Database data conversion*\n",
        "Using data taken from oil well sensors in the Permian Basin in an effort to understand the effects of Co2 Sequestration methods tested on older wells. This process both removes Co2 in vast amounts from the atmoshpere and allows wells to produce oil beyond basic fracturing methods.\n",
        "- set up permissions\n",
        "- Converted data from Miniseed file format to be updated with meta tags and transfering them into a MySQL databse remotely.\n",
        "- Used SSH to access the machine and SCP command to transfer extracted data into new miniseed files which allowed reading with .obspy software.\n",
        "\n"
      ],
      "metadata": {
        "id": "2AgCjAyE6hsV"
      }
    }
  ]
}