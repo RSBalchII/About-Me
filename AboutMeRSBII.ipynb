{
  "nbformat": 4,
  "nbformat_minor": 0,
  "metadata": {
    "colab": {
      "provenance": [],
      "authorship_tag": "ABX9TyP3sD9e8LQAXtdFYfwYHe1R",
      "include_colab_link": true
    },
    "kernelspec": {
      "name": "python3",
      "display_name": "Python 3"
    },
    "language_info": {
      "name": "python"
    }
  },
  "cells": [
    {
      "cell_type": "markdown",
      "metadata": {
        "id": "view-in-github",
        "colab_type": "text"
      },
      "source": [
        "<a href=\"https://colab.research.google.com/github/RSBalchII/About-Me/blob/main/AboutMeRSBII.ipynb\" target=\"_parent\"><img src=\"https://colab.research.google.com/assets/colab-badge.svg\" alt=\"Open In Colab\"/></a>"
      ]
    },
    {
      "cell_type": "markdown",
      "source": [
        "---\n",
        "# **About Me**\n",
        "---\n",
        "### **Robert Balch II**\n",
        "I am a software developer with an interest in moving into systems engineering or data science. To achieve these goals I began my coding work a year and a half ago at the Deep Dive Fullstack Program at CNM Ingenuity.\n",
        "\n",
        "---\n",
        "\n",
        "## **Work Opportunities After Graduation**\n",
        "---\n",
        "### **Martini App - Startup**\n",
        "I have had the opportunities after the DeepDive program to work at an internship with Dry Ice LLC. At this internship I was able to\n",
        "- *write pages of the main application software*\n",
        "- *write up a CRUD application for the COO to keep track of sales and customer information*\n",
        "- *use supabase as a backend for data and middleware for CRUD operations.*\n",
        "\n",
        "---\n",
        "### **Petroleum Research and Recovery - New Mexico Tech**\n",
        "---\n",
        "\n",
        "During this contract I designed an Entity Relationship Diagram and decided what frameworks and languages would be used for an inventory application that is used by the Petroleum Research and Engineering Center at New Mexico Technical Institute.\n",
        "\n",
        "---\n",
        "#### **PRRC Website**\n",
        "---\n",
        "\n",
        "- *Made contributions to the PRRC Website converting html and css to Next.js Framework for security and high speed access.*\n",
        "\n",
        "---\n",
        "#### **PRRC Seismic Database data conversion**\n",
        "---\n",
        "\n",
        "Using data taken from oil well sensors in the Permian Basin in an effort to understand the effects of Co2 Sequestration methods tested on older wells. This process both removes Co2 in vast amounts from the atmoshpere and allows wells to produce oil beyond basic fracturing methods.\n",
        "\n",
        "- *here I configured permissions on the server*\n",
        "- *Converted data from Miniseed file format to be updated with meta tags and transferred them into a MySQL databse.*\n",
        "- *Used SSH to access the machine remotely and scp file transferring to send extracted data files which allowed reading with .obspy software by geologists at Sandia Laboratories.*\n",
        "\n"
      ],
      "metadata": {
        "id": "2AgCjAyE6hsV"
      }
    }
  ]
}